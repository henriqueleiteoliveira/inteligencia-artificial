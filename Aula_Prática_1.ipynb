{
  "nbformat": 4,
  "nbformat_minor": 0,
  "metadata": {
    "colab": {
      "provenance": [],
      "collapsed_sections": [],
      "authorship_tag": "ABX9TyO4FmP+fNYoKbb1c7pMdyAq",
      "include_colab_link": true
    },
    "kernelspec": {
      "name": "python3",
      "display_name": "Python 3"
    },
    "language_info": {
      "name": "python"
    }
  },
  "cells": [
    {
      "cell_type": "markdown",
      "metadata": {
        "id": "view-in-github",
        "colab_type": "text"
      },
      "source": [
        "<a href=\"https://colab.research.google.com/github/henriqueleiteoliveira/inteligencia-artificial/blob/main/Aula_Pr%C3%A1tica_1.ipynb\" target=\"_parent\"><img src=\"https://colab.research.google.com/assets/colab-badge.svg\" alt=\"Open In Colab\"/></a>"
      ]
    },
    {
      "cell_type": "code",
      "source": [
        "def criaPuzzle():\n",
        "  matriz[3][3]={{1, 8, 2},{0, 4, 3},{7, 6, 5}}\n",
        "  return matriz;"
      ],
      "metadata": {
        "id": "09eyMXWwgBnA"
      },
      "execution_count": null,
      "outputs": []
    },
    {
      "cell_type": "code",
      "execution_count": null,
      "metadata": {
        "id": "NPdtzkDDbopT"
      },
      "outputs": [],
      "source": [
        "def buscaMelhorEscolha(problema, g+h):\n",
        "  "
      ]
    }
  ]
}